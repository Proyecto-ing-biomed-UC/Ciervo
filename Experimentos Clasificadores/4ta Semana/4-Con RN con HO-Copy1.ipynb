{
 "cells": [
  {
   "cell_type": "markdown",
   "metadata": {},
   "source": [
    "# Clasificador de datos que permita reconocer la marcha - Hold Out"
   ]
  },
  {
   "cell_type": "markdown",
   "metadata": {},
   "source": [
    "## 0. Initial Setup (carga de libreriías)"
   ]
  },
  {
   "cell_type": "code",
   "execution_count": 11,
   "metadata": {
    "ExecuteTime": {
     "end_time": "2024-08-28T18:23:45.802402Z",
     "start_time": "2024-08-28T18:23:39.189339Z"
    }
   },
   "outputs": [
    {
     "name": "stdout",
     "output_type": "stream",
     "text": [
      "Requirement already satisfied: ciervo in /opt/conda/lib/python3.8/site-packages (2024.8.30)\n",
      "\u001b[33mWARNING: Running pip as the 'root' user can result in broken permissions and conflicting behaviour with the system package manager. It is recommended to use a virtual environment instead: https://pip.pypa.io/warnings/venv\u001b[0m\n"
     ]
    }
   ],
   "source": [
    "!pip install ciervo --upgrade\n",
    "\n",
    "import import_ipynb\n",
    "from functions import * \n",
    "from ciervo.plots import emg_plot\n",
    "import torch.nn as nn\n",
    "from ciervo.io import load_data\n",
    "from ciervo.models import label_data, train_test_split\n",
    "from tqdm import tqdm"
   ]
  },
  {
   "cell_type": "markdown",
   "metadata": {},
   "source": [
    "## 1. Data Loading"
   ]
  },
  {
   "cell_type": "code",
   "execution_count": 12,
   "metadata": {
    "ExecuteTime": {
     "end_time": "2024-08-28T18:23:51.388138Z",
     "start_time": "2024-08-28T18:23:47.610957Z"
    }
   },
   "outputs": [
    {
     "name": "stdout",
     "output_type": "stream",
     "text": [
      "Total time: 2.29 hours\n"
     ]
    }
   ],
   "source": [
    "data_files = load_data('data/marcha_larga')"
   ]
  },
  {
   "cell_type": "markdown",
   "metadata": {},
   "source": [
    "## 2. Feature Extraction \n"
   ]
  },
  {
   "cell_type": "code",
   "execution_count": 13,
   "metadata": {
    "ExecuteTime": {
     "end_time": "2024-08-28T18:23:51.404215Z",
     "start_time": "2024-08-28T18:23:51.390961Z"
    }
   },
   "outputs": [],
   "source": [
    "#Funcion extraccion caracteristicas\n",
    "def extract_feature(data, divide=3):\n",
    "    # data : (T, 4) \n",
    "    # T numero de muestras, 4 canales de EMG\n",
    "    # C numero de indices de canales a usar\n",
    "    # divide: divide la señal en partes iguales\n",
    "    _, C = data.shape\n",
    "    result = []\n",
    "    feature_names = []\n",
    "\n",
    "    for c in range(C):\n",
    "        signal0 = data[:, c]\n",
    "\n",
    "        # Full wave rectification\n",
    "        rectified_signal = np.abs(signal0)\n",
    "\n",
    "        #envolvente\n",
    "        env = np.abs(signal.hilbert(data[:, c]))\n",
    "\n",
    "        #RMS\n",
    "        rms = np.sqrt(np.mean(rectified_signal**2))\n",
    "        result.append(rms)\n",
    "        feature_names.append(f\"rms_channel_{c}\")\n",
    "\n",
    "        #Varianza\n",
    "        var = np.var(rectified_signal)\n",
    "        result.append(var)\n",
    "        feature_names.append(f\"var_channel_{c}\")\n",
    "\n",
    "        #kurtosis\n",
    "        kurt = scipy.stats.kurtosis(rectified_signal)\n",
    "        result.append(kurt)\n",
    "        feature_names.append(f\"kurt_channel_{c}\")\n",
    "\n",
    "        #skewness\n",
    "        skew = scipy.stats.skew(rectified_signal)\n",
    "        result.append(skew)\n",
    "        feature_names.append(f\"skew_channel_{c}\")\n",
    "\n",
    "        #zero crossing\n",
    "        zc = ((signal0[:-1] * signal0[1:]) < 0).sum()\n",
    "        result.append(zc)\n",
    "        feature_names.append(f\"zc_channel_{c}\")\n",
    "\n",
    "        #Frecuencias\n",
    "        freqs, power_spectrum = scipy.signal.welch(signal0, fs=250, nperseg=32)\n",
    "        median_freq = freqs[np.where(np.cumsum(power_spectrum) >= np.sum(power_spectrum) / 2)[0][0]]\n",
    "        mean_freq = np.sum(freqs * power_spectrum) / np.sum(power_spectrum)\n",
    "        peak_freq = freqs[np.argmax(power_spectrum)]\n",
    "\n",
    "        result.extend([median_freq, mean_freq, peak_freq])\n",
    "        feature_names.extend([f\"median_freq_channel_{c}\", f\"mean_freq_channel_{c}\", f\"peak_freq_channel_{c}\"])\n",
    "\n",
    "\n",
    "        #SEGMENTOS\n",
    "        for i in range(divide):\n",
    "            start = int(i*len(data)/divide)\n",
    "            end = int((i+1)*len(data)/divide)\n",
    "\n",
    "            segment_env = env[start:end]\n",
    "            mean_env = segment_env.mean()\n",
    "            std_env = segment_env.std()\n",
    "            max_env = segment_env.max()\n",
    "            min_env = segment_env.min()\n",
    "\n",
    "            result.extend([mean_env, std_env, max_env, min_env])\n",
    "            feature_names.extend([f\"mean_env_segment_{i}channel{c}\", f\"std_env_segment_{i}channel{c}\",\n",
    "                                  f\"max_env_segment_{i}channel{c}\", f\"min_env_segment_{i}channel{c}\"])\n",
    "\n",
    "    result = np.array(result)\n",
    "    return result, feature_names\n",
    "\n",
    "def label_data_and_features(data, divide=3):\n",
    "    features =[]\n",
    "    for d in tqdm(data):\n",
    "      f,_ = extract_feature(d, divide)\n",
    "      features.append(f)\n",
    "    features = np.array(features) # (1000, features)\n",
    "    return features"
   ]
  },
  {
   "cell_type": "code",
   "execution_count": 14,
   "metadata": {
    "ExecuteTime": {
     "end_time": "2024-08-28T18:23:51.410555Z",
     "start_time": "2024-08-28T18:23:51.407459Z"
    }
   },
   "outputs": [],
   "source": [
    "# Definir las fases a probar\n",
    "fases_to_test = [4, 8, 16]\n",
    "\n",
    "# Crear listas para almacenar los resultados\n",
    "results_simple_nn = []\n",
    "results_cnn = []\n",
    "results_rnn = []"
   ]
  },
  {
   "cell_type": "code",
   "execution_count": 16,
   "metadata": {
    "ExecuteTime": {
     "end_time": "2024-08-28T19:15:01.710555Z",
     "start_time": "2024-08-28T18:25:33.829752Z"
    },
    "scrolled": true
   },
   "outputs": [
    {
     "name": "stdout",
     "output_type": "stream",
     "text": [
      "TESTING WITH 4 PHASES...\n"
     ]
    },
    {
     "name": "stderr",
     "output_type": "stream",
     "text": [
      "  0%|          | 47/9763 [00:00<00:20, 466.47it/s]"
     ]
    },
    {
     "name": "stdout",
     "output_type": "stream",
     "text": [
      "Train data: Extracted 9763 samples with 125 features each.\n",
      "Test data: Extracted 2437 samples with 125 features each.\n"
     ]
    },
    {
     "name": "stderr",
     "output_type": "stream",
     "text": [
      "100%|██████████| 9763/9763 [00:20<00:00, 483.80it/s]\n",
      "100%|██████████| 2437/2437 [00:05<00:00, 486.71it/s]\n"
     ]
    },
    {
     "name": "stdout",
     "output_type": "stream",
     "text": [
      "[42 22  6 25 48]\n",
      "Train data: Extracted 9763 samples with 5 features each.\n",
      "Test data: Extracted 2437 samples with 5 features each.\n",
      "-----------------------------------------------------------------------\n",
      "Simple NN\n",
      "Epoch [10/100], Loss: 1.131120204925537\n",
      "Epoch [20/100], Loss: 0.8113129734992981\n",
      "Epoch [30/100], Loss: 0.7712395787239075\n",
      "Epoch [40/100], Loss: 0.959580659866333\n",
      "Epoch [50/100], Loss: 0.7485082745552063\n",
      "Epoch [60/100], Loss: 2.1234748363494873\n",
      "Epoch [70/100], Loss: 0.7854281067848206\n",
      "Epoch [80/100], Loss: 0.41474369168281555\n",
      "Epoch [90/100], Loss: 1.501035213470459\n",
      "Epoch [100/100], Loss: 0.6119937896728516\n",
      "Accuracy: 0.5519080837094789%\n",
      "-----------------------------------------------------------------------\n",
      "CNN\n",
      "Epoch [10/100], Train Loss: 1.160703642305985, Val Loss: 1.1372054296654541\n",
      "Epoch [20/100], Train Loss: 1.1364580324662277, Val Loss: 1.1208786020031223\n",
      "Epoch [30/100], Train Loss: 1.108999134863124, Val Loss: 1.0981876726274367\n",
      "Epoch [40/100], Train Loss: 1.0614284306180244, Val Loss: 1.0528837186949593\n",
      "Epoch [50/100], Train Loss: 1.0458634534692453, Val Loss: 1.036846791769003\n",
      "Epoch [60/100], Train Loss: 1.0319005772958394, Val Loss: 1.0310604967080153\n",
      "Epoch [70/100], Train Loss: 1.028120231784247, Val Loss: 1.0281706800708523\n",
      "Epoch [80/100], Train Loss: 1.0229106609727823, Val Loss: 1.0292387411191866\n",
      "Epoch [90/100], Train Loss: 1.0165208268399333, Val Loss: 1.031132114398015\n",
      "Epoch [100/100], Train Loss: 1.0143915445976008, Val Loss: 1.0231285157141747\n",
      "Accuracy of CNN: 0.5625769388592532\n",
      "-----------------------------------------------------------------------\n",
      "RNN\n",
      "Epoch [5/150], Train Loss: 1.2882558142437655, Val Loss: 1.263293311193392\n",
      "Epoch [10/150], Train Loss: 1.2230908650588366, Val Loss: 1.2216621567676593\n",
      "Epoch [15/150], Train Loss: 1.180622052133473, Val Loss: 1.1485026053019933\n",
      "Epoch [20/150], Train Loss: 1.1483996997471728, Val Loss: 1.1370309862223538\n",
      "Epoch [25/150], Train Loss: 1.1344712586963879, Val Loss: 1.1198711271409865\n",
      "Epoch [30/150], Train Loss: 1.1214547474789465, Val Loss: 1.107723271691954\n",
      "Epoch [35/150], Train Loss: 1.1021720106695212, Val Loss: 1.0924783124552144\n",
      "Epoch [40/150], Train Loss: 1.0893957203899334, Val Loss: 1.0898229851351156\n",
      "Epoch [45/150], Train Loss: 1.074594599553962, Val Loss: 1.0844605325104355\n",
      "Epoch [50/150], Train Loss: 1.0589544264709247, Val Loss: 1.0665512216555608\n",
      "Epoch [55/150], Train Loss: 1.0461605362642825, Val Loss: 1.0503224173149506\n",
      "Epoch [60/150], Train Loss: 1.0363754540487053, Val Loss: 1.0573613844908678\n",
      "Epoch [65/150], Train Loss: 1.0284999523287506, Val Loss: 1.0531301250705472\n",
      "Epoch [70/150], Train Loss: 1.0213604037668191, Val Loss: 1.0636873322647888\n",
      "Epoch [75/150], Train Loss: 1.014543142583635, Val Loss: 1.051329891403\n",
      "Epoch [80/150], Train Loss: 1.0116506851966085, Val Loss: 1.0570023926821621\n",
      "Epoch [85/150], Train Loss: 1.0060058742566826, Val Loss: 1.0491964306150163\n",
      "Epoch [90/150], Train Loss: 1.0010968777868483, Val Loss: 1.0565579169756407\n",
      "Epoch [95/150], Train Loss: 0.9948281783099268, Val Loss: 1.062169376131776\n",
      "Epoch [100/150], Train Loss: 0.9859739549798903, Val Loss: 1.0660582811801464\n",
      "Epoch [105/150], Train Loss: 0.9812387474416907, Val Loss: 1.0674624435313336\n",
      "Epoch [110/150], Train Loss: 0.9738676327895495, Val Loss: 1.0710172196487329\n",
      "Epoch [115/150], Train Loss: 0.969799138556898, Val Loss: 1.0701589684981805\n",
      "Epoch [120/150], Train Loss: 0.9603727140457802, Val Loss: 1.078228934244676\n",
      "Epoch [125/150], Train Loss: 0.9544151814934475, Val Loss: 1.070052075695682\n",
      "Epoch [130/150], Train Loss: 0.9448226629908568, Val Loss: 1.0832686207511208\n",
      "Epoch [135/150], Train Loss: 0.9398249557205275, Val Loss: 1.0822970565263328\n",
      "Epoch [140/150], Train Loss: 0.9316349933350009, Val Loss: 1.0943829455933014\n",
      "Epoch [145/150], Train Loss: 0.918777696544828, Val Loss: 1.0980575564619783\n",
      "Epoch [150/150], Train Loss: 0.9112434724187539, Val Loss: 1.093718085196111\n",
      "Accuracy of RNN: 0.5301600328272467\n",
      "-----------------------------------------------------------------------\n",
      "TESTING WITH 8 PHASES...\n"
     ]
    },
    {
     "name": "stderr",
     "output_type": "stream",
     "text": [
      "  0%|          | 48/9763 [00:00<00:20, 476.70it/s]"
     ]
    },
    {
     "name": "stdout",
     "output_type": "stream",
     "text": [
      "Train data: Extracted 9763 samples with 125 features each.\n",
      "Test data: Extracted 2437 samples with 125 features each.\n"
     ]
    },
    {
     "name": "stderr",
     "output_type": "stream",
     "text": [
      "100%|██████████| 9763/9763 [00:20<00:00, 466.09it/s]\n",
      "100%|██████████| 2437/2437 [00:05<00:00, 458.15it/s]\n"
     ]
    },
    {
     "name": "stdout",
     "output_type": "stream",
     "text": [
      "[42 22  6 21 25]\n",
      "Train data: Extracted 9763 samples with 5 features each.\n",
      "Test data: Extracted 2437 samples with 5 features each.\n",
      "-----------------------------------------------------------------------\n",
      "Simple NN\n",
      "Epoch [10/100], Loss: 1.6097087860107422\n",
      "Epoch [20/100], Loss: 1.5604664087295532\n",
      "Epoch [30/100], Loss: 1.5008841753005981\n",
      "Epoch [40/100], Loss: 1.9631963968276978\n",
      "Epoch [50/100], Loss: 1.6238101720809937\n",
      "Epoch [60/100], Loss: 1.6879764795303345\n",
      "Epoch [70/100], Loss: 2.6736841201782227\n",
      "Epoch [80/100], Loss: 1.6287087202072144\n",
      "Epoch [90/100], Loss: 1.4048256874084473\n",
      "Epoch [100/100], Loss: 1.6244373321533203\n",
      "Accuracy: 0.2905211325400082%\n",
      "-----------------------------------------------------------------------\n",
      "CNN\n",
      "Epoch [10/100], Train Loss: 1.841237379834543, Val Loss: 1.8449042029195017\n",
      "Epoch [20/100], Train Loss: 1.8046355960415859, Val Loss: 1.805684095853335\n",
      "Epoch [30/100], Train Loss: 1.7777430204784168, Val Loss: 1.7783521723437619\n",
      "Epoch [40/100], Train Loss: 1.7674344793643826, Val Loss: 1.7628591648944012\n",
      "Epoch [50/100], Train Loss: 1.760265214770448, Val Loss: 1.7529576707195926\n",
      "Epoch [60/100], Train Loss: 1.7511814349617054, Val Loss: 1.7633810445859834\n",
      "Epoch [70/100], Train Loss: 1.7470058494923162, Val Loss: 1.7499012962564247\n",
      "Epoch [80/100], Train Loss: 1.7442158417764053, Val Loss: 1.745361969068453\n",
      "Epoch [90/100], Train Loss: 1.7344067065544377, Val Loss: 1.7463348763329642\n",
      "Epoch [100/100], Train Loss: 1.7347903337353974, Val Loss: 1.7465343397933166\n",
      "Accuracy of CNN: 0.29544521953221176\n",
      "-----------------------------------------------------------------------\n",
      "RNN\n",
      "Epoch [5/150], Train Loss: 1.9570986001320134, Val Loss: 1.9278708711847083\n",
      "Epoch [10/150], Train Loss: 1.8865611810310214, Val Loss: 1.8712949830216248\n",
      "Epoch [15/150], Train Loss: 1.8628658075737798, Val Loss: 1.8468858050061512\n",
      "Epoch [20/150], Train Loss: 1.8341471264564913, Val Loss: 1.8136126886714588\n",
      "Epoch [25/150], Train Loss: 1.8040414160373164, Val Loss: 1.7883375929547596\n",
      "Epoch [30/150], Train Loss: 1.7819646464453802, Val Loss: 1.7712053571428572\n",
      "Epoch [35/150], Train Loss: 1.7704866392160552, Val Loss: 1.7668751354341383\n",
      "Epoch [40/150], Train Loss: 1.7614130105068482, Val Loss: 1.774469298201722\n",
      "Epoch [45/150], Train Loss: 1.7574638747701459, Val Loss: 1.767065512669551\n",
      "Epoch [50/150], Train Loss: 1.7508783114501854, Val Loss: 1.7633156993172385\n",
      "Epoch [55/150], Train Loss: 1.7423613484388862, Val Loss: 1.7557318365419066\n",
      "Epoch [60/150], Train Loss: 1.7323155675838195, Val Loss: 1.7763791750003766\n",
      "Epoch [65/150], Train Loss: 1.7300814090211407, Val Loss: 1.7602451637193754\n",
      "Epoch [70/150], Train Loss: 1.723313016829148, Val Loss: 1.7528923935704417\n",
      "Epoch [75/150], Train Loss: 1.7209210672409705, Val Loss: 1.7534019358746418\n",
      "Epoch [80/150], Train Loss: 1.711651694540884, Val Loss: 1.7676819082978483\n",
      "Epoch [85/150], Train Loss: 1.705229084086574, Val Loss: 1.7707393850599016\n",
      "Epoch [90/150], Train Loss: 1.700334420585944, Val Loss: 1.771120707710068\n",
      "Epoch [95/150], Train Loss: 1.6939524903016931, Val Loss: 1.7861168554850988\n",
      "Epoch [100/150], Train Loss: 1.6861354989164017, Val Loss: 1.7762084688459123\n",
      "Epoch [105/150], Train Loss: 1.6814984761032403, Val Loss: 1.7748740029025387\n",
      "Epoch [110/150], Train Loss: 1.674460982575136, Val Loss: 1.778921198535275\n",
      "Epoch [115/150], Train Loss: 1.6648418011229023, Val Loss: 1.7837121533108997\n",
      "Epoch [120/150], Train Loss: 1.6580399489091113, Val Loss: 1.783004300934928\n",
      "Epoch [125/150], Train Loss: 1.6498404367297304, Val Loss: 1.809685010414619\n",
      "Epoch [130/150], Train Loss: 1.644075238237194, Val Loss: 1.7987339852692246\n",
      "Epoch [135/150], Train Loss: 1.6334532916156295, Val Loss: 1.8024718281510588\n",
      "Epoch [140/150], Train Loss: 1.6195801198482513, Val Loss: 1.805900064381686\n",
      "Epoch [145/150], Train Loss: 1.6184289432039447, Val Loss: 1.8136724249109046\n",
      "Epoch [150/150], Train Loss: 1.6113894449339972, Val Loss: 1.8188078883406404\n",
      "Accuracy of RNN: 0.2769798933114485\n",
      "-----------------------------------------------------------------------\n",
      "TESTING WITH 16 PHASES...\n"
     ]
    },
    {
     "name": "stderr",
     "output_type": "stream",
     "text": [
      "  1%|          | 96/9763 [00:00<00:20, 475.50it/s]"
     ]
    },
    {
     "name": "stdout",
     "output_type": "stream",
     "text": [
      "Train data: Extracted 9763 samples with 125 features each.\n",
      "Test data: Extracted 2437 samples with 125 features each.\n"
     ]
    },
    {
     "name": "stderr",
     "output_type": "stream",
     "text": [
      "100%|██████████| 9763/9763 [00:20<00:00, 472.49it/s]\n",
      "100%|██████████| 2437/2437 [00:05<00:00, 471.69it/s]\n"
     ]
    },
    {
     "name": "stdout",
     "output_type": "stream",
     "text": [
      "[42 22 21  6 25]\n",
      "Train data: Extracted 9763 samples with 5 features each.\n",
      "Test data: Extracted 2437 samples with 5 features each.\n",
      "-----------------------------------------------------------------------\n",
      "Simple NN\n",
      "Epoch [10/100], Loss: 2.462428331375122\n",
      "Epoch [20/100], Loss: 2.305957794189453\n",
      "Epoch [30/100], Loss: 2.398668050765991\n",
      "Epoch [40/100], Loss: 2.078456401824951\n",
      "Epoch [50/100], Loss: 2.7932615280151367\n",
      "Epoch [60/100], Loss: 2.1344754695892334\n",
      "Epoch [70/100], Loss: 2.144317388534546\n",
      "Epoch [80/100], Loss: 2.2061526775360107\n",
      "Epoch [90/100], Loss: 1.98923921585083\n",
      "Epoch [100/100], Loss: 3.0754082202911377\n",
      "Accuracy: 0.17439474764054164%\n",
      "-----------------------------------------------------------------------\n",
      "CNN\n",
      "Epoch [10/100], Train Loss: 2.54482387405595, Val Loss: 2.548051524471927\n",
      "Epoch [20/100], Train Loss: 2.45810919415717, Val Loss: 2.4759150263550995\n",
      "Epoch [30/100], Train Loss: 2.4387731108010984, Val Loss: 2.4434000640720517\n",
      "Epoch [40/100], Train Loss: 2.426768747809666, Val Loss: 2.436110803059169\n",
      "Epoch [50/100], Train Loss: 2.4108180711471956, Val Loss: 2.4378478093580767\n",
      "Epoch [60/100], Train Loss: 2.4035682070489024, Val Loss: 2.4308392428732537\n",
      "Epoch [70/100], Train Loss: 2.3995931343315475, Val Loss: 2.4225793442168793\n",
      "Epoch [80/100], Train Loss: 2.39200773465088, Val Loss: 2.419608363857517\n",
      "Epoch [90/100], Train Loss: 2.38698652133443, Val Loss: 2.4276285419216403\n",
      "Epoch [100/100], Train Loss: 2.3873679084715502, Val Loss: 2.436945441481355\n",
      "Accuracy of CNN: 0.17152236356175626\n",
      "-----------------------------------------------------------------------\n",
      "RNN\n",
      "Epoch [5/150], Train Loss: 2.641618569691976, Val Loss: 2.671457042941799\n",
      "Epoch [10/150], Train Loss: 2.5395731559765884, Val Loss: 2.5163750834279246\n",
      "Epoch [15/150], Train Loss: 2.479140803704854, Val Loss: 2.475533646422547\n",
      "Epoch [20/150], Train Loss: 2.448528060726091, Val Loss: 2.44585945079853\n",
      "Epoch [25/150], Train Loss: 2.4266128812740053, Val Loss: 2.4518402242041253\n",
      "Epoch [30/150], Train Loss: 2.414008369632796, Val Loss: 2.4435796489963284\n",
      "Epoch [35/150], Train Loss: 2.4036316926183265, Val Loss: 2.46263811495397\n",
      "Epoch [40/150], Train Loss: 2.394520073934318, Val Loss: 2.432546730165358\n",
      "Epoch [45/150], Train Loss: 2.384921094560935, Val Loss: 2.434862158515237\n",
      "Epoch [50/150], Train Loss: 2.3756737451927337, Val Loss: 2.43436044996435\n",
      "Epoch [55/150], Train Loss: 2.362967076254826, Val Loss: 2.4260597229003906\n",
      "Epoch [60/150], Train Loss: 2.3607290854641034, Val Loss: 2.4545762213793667\n",
      "Epoch [65/150], Train Loss: 2.348927707843531, Val Loss: 2.4422886758655697\n",
      "Epoch [70/150], Train Loss: 2.3425184628542732, Val Loss: 2.4430641926728285\n",
      "Epoch [75/150], Train Loss: 2.3306223372228785, Val Loss: 2.458755654174012\n",
      "Epoch [80/150], Train Loss: 2.3249952797017066, Val Loss: 2.440895854652702\n",
      "Epoch [85/150], Train Loss: 2.3149779435076745, Val Loss: 2.4533169114744506\n",
      "Epoch [90/150], Train Loss: 2.304938806038277, Val Loss: 2.4646731181578203\n",
      "Epoch [95/150], Train Loss: 2.2921845698668286, Val Loss: 2.4672867957647746\n",
      "Epoch [100/150], Train Loss: 2.285554713673062, Val Loss: 2.4687112027948555\n",
      "Epoch [105/150], Train Loss: 2.2798618584676507, Val Loss: 2.4775794481302236\n",
      "Epoch [110/150], Train Loss: 2.2679183401313483, Val Loss: 2.4875796274705366\n",
      "Epoch [115/150], Train Loss: 2.2616007604630166, Val Loss: 2.479712428984704\n",
      "Epoch [130/150], Train Loss: 2.2197474825615977, Val Loss: 2.5109498686604685\n",
      "Epoch [135/150], Train Loss: 2.2081028110061593, Val Loss: 2.505754483210576\n",
      "Epoch [140/150], Train Loss: 2.1988732039538865, Val Loss: 2.504912698423708\n",
      "Epoch [145/150], Train Loss: 2.188198705514272, Val Loss: 2.5362198414740624\n",
      "Epoch [150/150], Train Loss: 2.175537193133161, Val Loss: 2.536752137270841\n",
      "Accuracy of RNN: 0.16864997948297086\n",
      "-----------------------------------------------------------------------\n"
     ]
    }
   ],
   "source": [
    "for num_fases in fases_to_test:\n",
    "    print(f\"TESTING WITH {num_fases} PHASES...\")\n",
    "    labeled_data=label_data(data_files,num_fases=num_fases)\n",
    "    \n",
    "    train_window, train_labels, test_window, test_labels = train_test_split(labeled_data, \n",
    "                                                                      columna=[\"EMG_Isquio\",\"EMG_Cuadriceps\",\"EMG_AductorLargo\"],\n",
    "                                                                      window_size=125,\n",
    "                                                                        test_size=0.2,\n",
    "                                                                      overlap=0,\n",
    "                                                                      random_state=42)\n",
    "    print(f\"Train data: Extracted {train_window.shape[0]} samples with {train_window.shape[1]} features each.\")\n",
    "    print(f\"Test data: Extracted {test_window.shape[0]} samples with {test_window.shape[1]} features each.\")\n",
    "    train_data = label_data_and_features(train_window, divide=3)\n",
    "    test_data = label_data_and_features(test_window, divide=3)\n",
    "    \n",
    "     \n",
    "    #train_data, test_data = clean_normalized_feature_selection(train_data, test_data)\n",
    "    train_data, test_data = sfs_selection(train_data,test_data,train_labels,n_indices=5)\n",
    "    print(f\"Train data: Extracted {train_data.shape[0]} samples with {train_data.shape[1]} features each.\")\n",
    "    print(f\"Test data: Extracted {test_data.shape[0]} samples with {test_data.shape[1]} features each.\")\n",
    "    print(\"-----------------------------------------------------------------------\")\n",
    "    \n",
    "    # Simple NN\n",
    "    print(\"Simple NN\")\n",
    "    input_size = train_data.shape[1]\n",
    "    hidden_size = 100\n",
    "    output_size = num_fases\n",
    "    learning_rate = 0.001\n",
    "    num_epochs = 100\n",
    "    \n",
    "    model = SimpleNN(input_size, hidden_size, output_size)\n",
    "    criterion = nn.CrossEntropyLoss()\n",
    "    optimizer = torch.optim.Adam(model.parameters(), lr=learning_rate)\n",
    "    \n",
    "    train_loader, test_tensor, test_labels_tensor = prepare_data_SimpleNN(train_data, train_labels, test_data, test_labels)\n",
    "    train_model_SimpleNN(model, criterion, optimizer, train_loader, num_epochs)\n",
    "    accuracy_nn = evaluate_model_SimpleNN(model, test_tensor, test_labels_tensor)\n",
    "    results_simple_nn.append((num_fases, accuracy_nn))\n",
    "    \n",
    "    # CNN\n",
    "    print(\"-----------------------------------------------------------------------\")\n",
    "    print(\"CNN\")\n",
    "    train_loader, test_loader, test_labels_tensor, train_data_tensor = prepare_data_CNN(train_data, train_labels, test_data, test_labels)\n",
    "    input_length = train_data_tensor.shape[2]\n",
    "    device = torch.device('cuda' if torch.cuda.is_available() else 'cpu')\n",
    "    cnn_model = GaitCNN(input_length, num_fases=num_fases).to(device)\n",
    "    criterion = nn.CrossEntropyLoss()\n",
    "    optimizer = torch.optim.Adam(cnn_model.parameters(), lr=0.001)\n",
    "    \n",
    "    train_loss, test_loss = train_model_CNN(cnn_model, device, criterion, optimizer, train_loader, test_loader, num_epochs=100)\n",
    "    accuracy_cnn = evaluate_model_CNN(cnn_model, test_loader, test_labels_tensor)\n",
    "    results_cnn.append((num_fases, accuracy_cnn))\n",
    "    \n",
    "    # RNN\n",
    "    print(\"-----------------------------------------------------------------------\")\n",
    "    print(\"RNN\")\n",
    "    train_data_rnn, test_data_rnn = preprocess_data_RNN(train_data, test_data)\n",
    "    input_size = train_data_rnn.shape[2]\n",
    "    hidden_size = 64\n",
    "    num_layers = 2\n",
    "    batch_size = 32\n",
    "    num_epochs = 150\n",
    "    \n",
    "    train_loader, test_loader = create_dataloaders_RNN(train_data_rnn, train_labels, test_data_rnn, test_labels, batch_size)\n",
    "    rnn_model = GaitRNN(input_size, hidden_size, num_layers, num_fases).to(device)\n",
    "    criterion = nn.CrossEntropyLoss()\n",
    "    optimizer = torch.optim.Adam(rnn_model.parameters(), lr=0.001)\n",
    "    \n",
    "    train_loss, test_loss = train_model_RNN(rnn_model, train_loader, test_loader, criterion, optimizer, num_epochs, device)\n",
    "    accuracy_rnn = evaluate_model_RNN(rnn_model, test_loader, test_labels, device)\n",
    "    results_rnn.append((num_fases, accuracy_rnn))\n",
    "    print(\"-----------------------------------------------------------------------\")\n",
    "\n"
   ]
  },
  {
   "cell_type": "code",
   "execution_count": null,
   "metadata": {
    "ExecuteTime": {
     "start_time": "2024-08-28T18:25:33.822Z"
    }
   },
   "outputs": [
    {
     "name": "stdout",
     "output_type": "stream",
     "text": [
      "Results for Simple NN:\n",
      "Phases: 4, Accuracy: 0.5519080837094789\n",
      "Phases: 8, Accuracy: 0.2905211325400082\n",
      "Phases: 16, Accuracy: 0.17439474764054164\n",
      "Results for CNN:\n",
      "Phases: 4, Accuracy: 0.5625769388592532\n",
      "Phases: 8, Accuracy: 0.29544521953221176\n",
      "Phases: 16, Accuracy: 0.17152236356175626\n",
      "Results for RNN:\n",
      "Phases: 4, Accuracy: 0.5301600328272467\n",
      "Phases: 8, Accuracy: 0.2769798933114485\n",
      "Phases: 16, Accuracy: 0.16864997948297086\n"
     ]
    }
   ],
   "source": [
    "# Mostrar los resultados\n",
    "print(\"Results for Simple NN:\")\n",
    "for num_fases, acc in results_simple_nn:\n",
    "    print(f\"Phases: {num_fases}, Accuracy: {acc}\")\n",
    "\n",
    "print(\"Results for CNN:\")\n",
    "for num_fases, acc in results_cnn:\n",
    "    print(f\"Phases: {num_fases}, Accuracy: {acc}\")\n",
    "\n",
    "print(\"Results for RNN:\")\n",
    "for num_fases, acc in results_rnn:\n",
    "    print(f\"Phases: {num_fases}, Accuracy: {acc}\")"
   ]
  }
 ],
 "metadata": {
  "kernelspec": {
   "display_name": "Python 3",
   "language": "python",
   "name": "python3"
  },
  "language_info": {
   "codemirror_mode": {
    "name": "ipython",
    "version": 3
   },
   "file_extension": ".py",
   "mimetype": "text/x-python",
   "name": "python",
   "nbconvert_exporter": "python",
   "pygments_lexer": "ipython3",
   "version": "3.8.10"
  },
  "toc": {
   "base_numbering": 1,
   "nav_menu": {},
   "number_sections": false,
   "sideBar": true,
   "skip_h1_title": false,
   "title_cell": "Table of Contents",
   "title_sidebar": "Contents",
   "toc_cell": false,
   "toc_position": {},
   "toc_section_display": true,
   "toc_window_display": false
  }
 },
 "nbformat": 4,
 "nbformat_minor": 2
}
